{
 "cells": [
  {
   "cell_type": "code",
   "execution_count": 13,
   "id": "450e6137",
   "metadata": {},
   "outputs": [],
   "source": [
    "import requests\n",
    "from bs4 import BeautifulSoup\n",
    "from urllib.parse import urljoin"
   ]
  },
  {
   "cell_type": "markdown",
   "id": "eb74b57f",
   "metadata": {},
   "source": [
    "## Extract URLs from a page"
   ]
  },
  {
   "cell_type": "code",
   "execution_count": 26,
   "id": "e9de1738",
   "metadata": {},
   "outputs": [],
   "source": [
    "def _hrefs(url):\n",
    "    response = requests.get(url)\n",
    "    html_content = response.text\n",
    "    \n",
    "    soup = BeautifulSoup(html_content, \"html.parser\")\n",
    "    \n",
    "    hrefs = []\n",
    "    for link in soup.find_all(\"a\"):\n",
    "        href = link.get(\"href\")\n",
    "        if href:\n",
    "            if href.startswith(\"/\"):\n",
    "                href = urljoin(url, href)\n",
    "                hrefs.append(href)\n",
    "    return hrefs"
   ]
  },
  {
   "cell_type": "code",
   "execution_count": 15,
   "id": "831796d9",
   "metadata": {},
   "outputs": [],
   "source": [
    "hrefs_list = _hrefs(\"https://api.parliament.uk/historic-hansard/commons/1869/\")"
   ]
  },
  {
   "cell_type": "code",
   "execution_count": 16,
   "id": "1d8f08b4",
   "metadata": {},
   "outputs": [
    {
     "data": {
      "text/plain": [
       "['https://api.parliament.uk/historic-hansard/search',\n",
       " 'https://api.parliament.uk/historic-hansard/',\n",
       " 'https://api.parliament.uk/historic-hansard/sittings/1860s',\n",
       " 'https://api.parliament.uk/historic-hansard/commons/1860s',\n",
       " 'https://api.parliament.uk/historic-hansard/commons/1868',\n",
       " 'https://api.parliament.uk/historic-hansard/commons/1869/feb',\n",
       " 'https://api.parliament.uk/historic-hansard/commons/1869/mar',\n",
       " 'https://api.parliament.uk/historic-hansard/commons/1869/apr',\n",
       " 'https://api.parliament.uk/historic-hansard/commons/1869/may',\n",
       " 'https://api.parliament.uk/historic-hansard/commons/1869/jun',\n",
       " 'https://api.parliament.uk/historic-hansard/commons/1869/jul',\n",
       " 'https://api.parliament.uk/historic-hansard/commons/1869/aug',\n",
       " 'https://api.parliament.uk/historic-hansard/commons/1870',\n",
       " 'https://api.parliament.uk/historic-hansard/commons/1869/feb',\n",
       " 'https://api.parliament.uk/historic-hansard/commons/1869/mar',\n",
       " 'https://api.parliament.uk/historic-hansard/commons/1869/apr',\n",
       " 'https://api.parliament.uk/historic-hansard/commons/1869/may',\n",
       " 'https://api.parliament.uk/historic-hansard/commons/1869/jun',\n",
       " 'https://api.parliament.uk/historic-hansard/commons/1869/jul',\n",
       " 'https://api.parliament.uk/historic-hansard/commons/1869/aug',\n",
       " 'https://api.parliament.uk/historic-hansard/typos']"
      ]
     },
     "execution_count": 16,
     "metadata": {},
     "output_type": "execute_result"
    }
   ],
   "source": [
    "hrefs_list"
   ]
  },
  {
   "cell_type": "markdown",
   "id": "ba606825",
   "metadata": {},
   "source": [
    "Extract Text"
   ]
  },
  {
   "cell_type": "code",
   "execution_count": 18,
   "id": "cccc994c",
   "metadata": {},
   "outputs": [],
   "source": [
    "def _extract(url):\n",
    "\n",
    "    response = requests.get(url)\n",
    "    html_content = response.content\n",
    "\n",
    "    soup = BeautifulSoup(html_content, \"html.parser\")\n",
    "    text = soup.get_text()\n",
    "\n",
    "    text = text.strip()\n",
    "    text = text.replace(\"\\n\", \"\")\n",
    "\n",
    "    return text\n"
   ]
  },
  {
   "cell_type": "code",
   "execution_count": 19,
   "id": "69dc5a6a",
   "metadata": {},
   "outputs": [],
   "source": [
    "text = _extract('https://api.parliament.uk/historic-hansard/commons/1869/aug/10/question')\n"
   ]
  },
  {
   "cell_type": "code",
   "execution_count": 20,
   "id": "0ef8d336",
   "metadata": {},
   "outputs": [
    {
     "data": {
      "text/plain": [
       "\"QUESTION. (Hansard, 10 August 1869)Search HelpHANSARD 1803–2005        →                          1860s                 →                  1869                 →                  August 1869                 →                  10 August 1869                →                          Commons Sitting                 →        ITALY—ARREST OF MR. NATHAN.QUESTION.HC Deb 10 August 1869 vol 198 c15261526 §MR. P. A. TAYLOR            said, he wished to ask the Under Secretary of State for Foreign Affairs, Whether his attention has been called to the arrest of a young man, Mr. Nathan, a British subject, at Milan in April last, and to his continued incarceration to this time without trial, bail being refused; and, whether he will state what steps Her Majesty's Government have taken in the matter?           MR. OTWAY            said, he had to say, in answer to the Question of his hon. Friend, that his attention had been called to the arrest of this young gentleman, Mr. Nathan, at Milan. It appeared that he was a mere boy, he believed of nineteen years of age, and the first intimation that the British Minister at Florence had of his arrest was on the 19th of July, when the brother of Mr. Nathan called at the Legation and informed Sir Augustus Paget of the circumstance. Sir Augustus Paget reported the fact to the Foreign Office on the 21st of5July, and Lord Clarendon directed instructions to be sent to Sir Augustus Paget on the 3rd of August, desiring that all the information he could obtain should be forwarded, requesting that the young man might be admitted to bail, and that in the meantime he should not be sent to Naples.           Back to                  ITALY—ARREST OF MR. NATHAN.        Forward to                  NAVY—ADMIRALTY ACCOUNTS.        Noticed a typo? | Report other issues | © UK Parliament\""
      ]
     },
     "execution_count": 20,
     "metadata": {},
     "output_type": "execute_result"
    }
   ],
   "source": [
    "text"
   ]
  },
  {
   "cell_type": "code",
   "execution_count": 23,
   "id": "dab1c715",
   "metadata": {},
   "outputs": [],
   "source": [
    "def get_all_hrefs(base_url, year):\n",
    "    year_url = urljoin(base_url, f\"{year}/\")\n",
    "\n",
    "    response = requests.get(year_url)\n",
    "    html_content = response.text\n",
    "    \n",
    "    soup = BeautifulSoup(html_content, \"html.parser\")\n",
    "    \n",
    "    article_urls = []\n",
    "    for link in soup.find_all(\"a\"):\n",
    "        href = link.get(\"href\")\n",
    "        if href and href.endswith(\"/\"):\n",
    "            article_url = urljoin(base_url, href)\n",
    "            article_urls.append(article_url)\n",
    "    \n",
    "    all_hrefs = []\n",
    "    for article_url in article_urls:\n",
    "        article_hrefs = _hrefs(article_url)\n",
    "        all_hrefs.extend([urljoin(article_url, href) for href in article_hrefs])\n",
    "    \n",
    "    return all_hrefs"
   ]
  },
  {
   "cell_type": "code",
   "execution_count": 24,
   "id": "dfb6388d",
   "metadata": {},
   "outputs": [],
   "source": [
    "listone = get_all_hrefs(\"https://api.parliament.uk/historic-hansard/commons/\",\"1869/aug\")"
   ]
  },
  {
   "cell_type": "code",
   "execution_count": 25,
   "id": "a86cb726",
   "metadata": {},
   "outputs": [
    {
     "data": {
      "text/plain": [
       "['https://api.parliament.uk/historic-hansard/sittings/1800s',\n",
       " 'https://api.parliament.uk/historic-hansard/sittings/1810s',\n",
       " 'https://api.parliament.uk/historic-hansard/sittings/1820s',\n",
       " 'https://api.parliament.uk/historic-hansard/sittings/1830s',\n",
       " 'https://api.parliament.uk/historic-hansard/sittings/1840s',\n",
       " 'https://api.parliament.uk/historic-hansard/sittings/1850s',\n",
       " 'https://api.parliament.uk/historic-hansard/sittings/1860s',\n",
       " 'https://api.parliament.uk/historic-hansard/sittings/1870s',\n",
       " 'https://api.parliament.uk/historic-hansard/sittings/1880s',\n",
       " 'https://api.parliament.uk/historic-hansard/sittings/1890s',\n",
       " 'https://api.parliament.uk/historic-hansard/sittings/C20',\n",
       " 'https://api.parliament.uk/historic-hansard/sittings/1800s',\n",
       " 'https://api.parliament.uk/historic-hansard/sittings/1810s',\n",
       " 'https://api.parliament.uk/historic-hansard/sittings/1820s',\n",
       " 'https://api.parliament.uk/historic-hansard/sittings/1830s',\n",
       " 'https://api.parliament.uk/historic-hansard/sittings/1840s',\n",
       " 'https://api.parliament.uk/historic-hansard/sittings/1850s',\n",
       " 'https://api.parliament.uk/historic-hansard/sittings/1860s',\n",
       " 'https://api.parliament.uk/historic-hansard/sittings/1870s',\n",
       " 'https://api.parliament.uk/historic-hansard/sittings/1880s',\n",
       " 'https://api.parliament.uk/historic-hansard/sittings/1890s',\n",
       " 'https://api.parliament.uk/historic-hansard/volumes/',\n",
       " 'https://api.parliament.uk/historic-hansard/commons/',\n",
       " 'https://api.parliament.uk/historic-hansard/westminster_hall/',\n",
       " 'https://api.parliament.uk/historic-hansard/written_answers/',\n",
       " 'https://api.parliament.uk/historic-hansard/written_statements/',\n",
       " 'https://api.parliament.uk/historic-hansard/lords_reports/',\n",
       " 'https://api.parliament.uk/historic-hansard/grand_committee_report/',\n",
       " 'https://api.parliament.uk/historic-hansard/people/',\n",
       " 'https://api.parliament.uk/historic-hansard/constituencies/',\n",
       " 'https://api.parliament.uk/historic-hansard/offices/',\n",
       " 'https://api.parliament.uk/historic-hansard/acts/',\n",
       " 'https://api.parliament.uk/historic-hansard/bills/',\n",
       " 'https://api.parliament.uk/historic-hansard/divisions/',\n",
       " 'https://api.parliament.uk/historic-hansard/credits']"
      ]
     },
     "execution_count": 25,
     "metadata": {},
     "output_type": "execute_result"
    }
   ],
   "source": [
    "listone"
   ]
  },
  {
   "cell_type": "code",
   "execution_count": null,
   "id": "098830f1",
   "metadata": {},
   "outputs": [],
   "source": []
  }
 ],
 "metadata": {
  "kernelspec": {
   "display_name": "Python 3 (ipykernel)",
   "language": "python",
   "name": "python3"
  },
  "language_info": {
   "codemirror_mode": {
    "name": "ipython",
    "version": 3
   },
   "file_extension": ".py",
   "mimetype": "text/x-python",
   "name": "python",
   "nbconvert_exporter": "python",
   "pygments_lexer": "ipython3",
   "version": "3.9.12"
  }
 },
 "nbformat": 4,
 "nbformat_minor": 5
}
