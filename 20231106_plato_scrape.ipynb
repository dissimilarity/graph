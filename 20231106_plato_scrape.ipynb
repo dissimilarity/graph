{
 "cells": [
  {
   "cell_type": "code",
   "execution_count": 1,
   "id": "450e6137",
   "metadata": {},
   "outputs": [],
   "source": [
    "import pandas as pd\n",
    "import numpy as np\n",
    "import requests\n",
    "from bs4 import BeautifulSoup\n",
    "from urllib.parse import urljoin\n",
    "import networkx as nx\n",
    "import matplotlib.pyplot as plt\n",
    "from tqdm.notebook import tqdm\n",
    "\n"
   ]
  },
  {
   "cell_type": "markdown",
   "id": "eb74b57f",
   "metadata": {},
   "source": [
    "## Extract list of all articles on Plato from contents page"
   ]
  },
  {
   "cell_type": "code",
   "execution_count": 2,
   "id": "589e74f1",
   "metadata": {},
   "outputs": [],
   "source": [
    "def _scrape(url):\n",
    "    response = requests.get(url) # get HTML content\n",
    "    soup = BeautifulSoup(response.content, 'html.parser') # parse\n",
    "    hyperlinks = soup.find_all('a', href=lambda href: href and href.startswith('entries'))\n",
    "    urls = [hyperlink.get('href') for hyperlink in hyperlinks] # Extract the URLs from the hyperlinks\n",
    "    return urls"
   ]
  },
  {
   "cell_type": "code",
   "execution_count": 3,
   "id": "844db77d",
   "metadata": {},
   "outputs": [],
   "source": [
    "contents_list = _scrape(\"https://plato.stanford.edu/contents.html\")"
   ]
  },
  {
   "cell_type": "code",
   "execution_count": 4,
   "id": "a302ec6a",
   "metadata": {},
   "outputs": [
    {
     "data": {
      "text/html": [
       "<div>\n",
       "<style scoped>\n",
       "    .dataframe tbody tr th:only-of-type {\n",
       "        vertical-align: middle;\n",
       "    }\n",
       "\n",
       "    .dataframe tbody tr th {\n",
       "        vertical-align: top;\n",
       "    }\n",
       "\n",
       "    .dataframe thead th {\n",
       "        text-align: right;\n",
       "    }\n",
       "</style>\n",
       "<table border=\"1\" class=\"dataframe\">\n",
       "  <thead>\n",
       "    <tr style=\"text-align: right;\">\n",
       "      <th></th>\n",
       "      <th>href</th>\n",
       "      <th>topic_name</th>\n",
       "      <th>url</th>\n",
       "    </tr>\n",
       "  </thead>\n",
       "  <tbody>\n",
       "    <tr>\n",
       "      <th>0</th>\n",
       "      <td>entries/abduction/</td>\n",
       "      <td>abduction</td>\n",
       "      <td>https://plato.stanford.edu/entries/abduction/</td>\n",
       "    </tr>\n",
       "  </tbody>\n",
       "</table>\n",
       "</div>"
      ],
      "text/plain": [
       "                 href topic_name  \\\n",
       "0  entries/abduction/  abduction   \n",
       "\n",
       "                                             url  \n",
       "0  https://plato.stanford.edu/entries/abduction/  "
      ]
     },
     "execution_count": 4,
     "metadata": {},
     "output_type": "execute_result"
    }
   ],
   "source": [
    "contents = pd.DataFrame(contents_list, columns=['href'])\n",
    "contents['topic_name'] = contents['href'].apply(lambda x: x.split('/')[1])\n",
    "contents['topic_name'] = contents['topic_name'].str.replace('-', ' ')\n",
    "contents['url'] = contents['href'].apply(lambda x: 'https://plato.stanford.edu/' + x)\n",
    "contents.head(1)"
   ]
  },
  {
   "cell_type": "markdown",
   "id": "ac31f16c",
   "metadata": {},
   "source": [
    "## Extract keywords from each URL"
   ]
  },
  {
   "cell_type": "markdown",
   "id": "b9ae8f13",
   "metadata": {},
   "source": [
    "remove common words"
   ]
  },
  {
   "cell_type": "code",
   "execution_count": 108,
   "id": "e5e88700",
   "metadata": {},
   "outputs": [],
   "source": [
    "original_list = contents[\"topic_name\"].tolist()\n",
    "words_to_remove = {'analysis','argument', 'belief','properties','property','reference', 'respect','time'}\n",
    "\n",
    "def _remove(word_list):\n",
    "    for word in words_to_remove:\n",
    "        while word in word_list:\n",
    "            word_list.remove(word)\n",
    "    return word_list\n",
    "\n",
    "topic_keywords_list = _remove(original_list)"
   ]
  },
  {
   "cell_type": "markdown",
   "id": "764c107c",
   "metadata": {},
   "source": [
    "# test"
   ]
  },
  {
   "cell_type": "code",
   "execution_count": 111,
   "id": "4812bbfa",
   "metadata": {},
   "outputs": [
    {
     "data": {
      "text/plain": [
       "0        https://plato.stanford.edu/entries/abduction/\n",
       "1       https://plato.stanford.edu/entries/skepticism/\n",
       "2    https://plato.stanford.edu/entries/scientific-...\n",
       "Name: url, dtype: object"
      ]
     },
     "execution_count": 111,
     "metadata": {},
     "output_type": "execute_result"
    }
   ],
   "source": [
    "test = pd.DataFrame({\n",
    "'url': [\"https://plato.stanford.edu/entries/abduction/\",\n",
    "       \"https://plato.stanford.edu/entries/skepticism/\",\n",
    "       \"https://plato.stanford.edu/entries/scientific-realism/\"],\n",
    "'topic_name': [\"abduction\",\n",
    "              \"skepticism\",\n",
    "              \"scientific realism\"]\n",
    "})\n",
    "test[\"url\"]"
   ]
  },
  {
   "cell_type": "code",
   "execution_count": 112,
   "id": "ad7899a0",
   "metadata": {},
   "outputs": [
    {
     "data": {
      "text/plain": [
       "array([['https://plato.stanford.edu/entries/abduction/', 'abduction'],\n",
       "       ['https://plato.stanford.edu/entries/skepticism/', 'skepticism'],\n",
       "       ['https://plato.stanford.edu/entries/scientific-realism/',\n",
       "        'scientific realism']], dtype=object)"
      ]
     },
     "execution_count": 112,
     "metadata": {},
     "output_type": "execute_result"
    }
   ],
   "source": [
    "test.values"
   ]
  },
  {
   "cell_type": "code",
   "execution_count": 113,
   "id": "f7fb0056",
   "metadata": {},
   "outputs": [],
   "source": [
    "def _keywords(topic_name, url_input, keyword_input):\n",
    "    found_keywords_list = [] # make empty list\n",
    "    response = requests.get(url_input) #get html\n",
    "    soup = BeautifulSoup(response.content, 'html.parser') #parse\n",
    "    text = soup.get_text()\n",
    "    for keyword in keyword_input:\n",
    "        if keyword != topic_name:\n",
    "            if keyword in text:\n",
    "                found_keywords_list.append(keyword) \n",
    "    counts = {}\n",
    "    for element in found_keywords_list: # consider replacing this with Counter\n",
    "        if element in counts:\n",
    "            counts[element] += 1\n",
    "        else:\n",
    "            counts[element] = 1\n",
    "    sorted_counts = {k: v for k, v in sorted(counts.items(), key=lambda item: item[1], reverse=True)}\n",
    "    filtered_list = list(sorted_counts.keys())[:10] ##### toggle\n",
    "    if len(filtered_list) < 2:\n",
    "        return(found_keywords_list)\n",
    "    else:\n",
    "        return(filtered_list)"
   ]
  },
  {
   "cell_type": "code",
   "execution_count": 114,
   "id": "b0b67c1f",
   "metadata": {},
   "outputs": [],
   "source": [
    "def _rows(df):\n",
    "    nested_list = []\n",
    "    for index, row in tqdm(df.iterrows(), desc='Processing rows...'):\n",
    "        output = _keywords(row[\"topic_name\"], row['url'], topic_keywords_list)\n",
    "        nested_list.append({row['topic_name']: output})\n",
    "    return nested_list"
   ]
  },
  {
   "cell_type": "code",
   "execution_count": 115,
   "id": "83dbba8f",
   "metadata": {},
   "outputs": [
    {
     "data": {
      "application/vnd.jupyter.widget-view+json": {
       "model_id": "b73305e3b180442dafdba1f9c2151e81",
       "version_major": 2,
       "version_minor": 0
      },
      "text/plain": [
       "Processing rows...: 0it [00:00, ?it/s]"
      ]
     },
     "metadata": {},
     "output_type": "display_data"
    }
   ],
   "source": [
    "testresult = _rows(test)"
   ]
  },
  {
   "cell_type": "code",
   "execution_count": 116,
   "id": "bbfbd786",
   "metadata": {
    "scrolled": true
   },
   "outputs": [
    {
     "data": {
      "text/plain": [
       "[{'abduction': ['skepticism',\n",
       "   'existence',\n",
       "   'confirmation',\n",
       "   'scientific explanation',\n",
       "   'scientific realism',\n",
       "   'abilities',\n",
       "   'action',\n",
       "   'attention',\n",
       "   'broad',\n",
       "   'change']},\n",
       " {'skepticism': ['possible worlds',\n",
       "   'existence',\n",
       "   'ceteris paribus',\n",
       "   'logical truth',\n",
       "   'action',\n",
       "   'assertion',\n",
       "   'attention',\n",
       "   'ayer',\n",
       "   'blame',\n",
       "   'broad']},\n",
       " {'scientific realism': ['skepticism',\n",
       "   'possible worlds',\n",
       "   'abduction',\n",
       "   'existence',\n",
       "   'confirmation',\n",
       "   'constructive empiricism',\n",
       "   'continuity',\n",
       "   'logical empiricism',\n",
       "   'scientific explanation',\n",
       "   'incommensurability']}]"
      ]
     },
     "execution_count": 116,
     "metadata": {},
     "output_type": "execute_result"
    }
   ],
   "source": [
    "testresult"
   ]
  },
  {
   "cell_type": "code",
   "execution_count": 117,
   "id": "71386683",
   "metadata": {},
   "outputs": [],
   "source": [
    "result_list = []\n",
    "for d in testresult:\n",
    "    for k, v in d.items():\n",
    "        row = [k] + v + [None] * (10 - len(v))\n",
    "        result_list.append(row)\n",
    "\n",
    "df_result = pd.DataFrame(result_list, columns=['topic_name'] + [f'output_{i+1}' for i in range(10)])"
   ]
  },
  {
   "cell_type": "code",
   "execution_count": 118,
   "id": "00bc308b",
   "metadata": {},
   "outputs": [
    {
     "data": {
      "text/html": [
       "<div>\n",
       "<style scoped>\n",
       "    .dataframe tbody tr th:only-of-type {\n",
       "        vertical-align: middle;\n",
       "    }\n",
       "\n",
       "    .dataframe tbody tr th {\n",
       "        vertical-align: top;\n",
       "    }\n",
       "\n",
       "    .dataframe thead th {\n",
       "        text-align: right;\n",
       "    }\n",
       "</style>\n",
       "<table border=\"1\" class=\"dataframe\">\n",
       "  <thead>\n",
       "    <tr style=\"text-align: right;\">\n",
       "      <th></th>\n",
       "      <th>topic_name</th>\n",
       "      <th>output_1</th>\n",
       "      <th>output_2</th>\n",
       "      <th>output_3</th>\n",
       "      <th>output_4</th>\n",
       "      <th>output_5</th>\n",
       "      <th>output_6</th>\n",
       "      <th>output_7</th>\n",
       "      <th>output_8</th>\n",
       "      <th>output_9</th>\n",
       "      <th>output_10</th>\n",
       "    </tr>\n",
       "  </thead>\n",
       "  <tbody>\n",
       "    <tr>\n",
       "      <th>0</th>\n",
       "      <td>abduction</td>\n",
       "      <td>skepticism</td>\n",
       "      <td>existence</td>\n",
       "      <td>confirmation</td>\n",
       "      <td>scientific explanation</td>\n",
       "      <td>scientific realism</td>\n",
       "      <td>abilities</td>\n",
       "      <td>action</td>\n",
       "      <td>attention</td>\n",
       "      <td>broad</td>\n",
       "      <td>change</td>\n",
       "    </tr>\n",
       "    <tr>\n",
       "      <th>1</th>\n",
       "      <td>skepticism</td>\n",
       "      <td>possible worlds</td>\n",
       "      <td>existence</td>\n",
       "      <td>ceteris paribus</td>\n",
       "      <td>logical truth</td>\n",
       "      <td>action</td>\n",
       "      <td>assertion</td>\n",
       "      <td>attention</td>\n",
       "      <td>ayer</td>\n",
       "      <td>blame</td>\n",
       "      <td>broad</td>\n",
       "    </tr>\n",
       "    <tr>\n",
       "      <th>2</th>\n",
       "      <td>scientific realism</td>\n",
       "      <td>skepticism</td>\n",
       "      <td>possible worlds</td>\n",
       "      <td>abduction</td>\n",
       "      <td>existence</td>\n",
       "      <td>confirmation</td>\n",
       "      <td>constructive empiricism</td>\n",
       "      <td>continuity</td>\n",
       "      <td>logical empiricism</td>\n",
       "      <td>scientific explanation</td>\n",
       "      <td>incommensurability</td>\n",
       "    </tr>\n",
       "  </tbody>\n",
       "</table>\n",
       "</div>"
      ],
      "text/plain": [
       "           topic_name         output_1         output_2         output_3  \\\n",
       "0           abduction       skepticism        existence     confirmation   \n",
       "1          skepticism  possible worlds        existence  ceteris paribus   \n",
       "2  scientific realism       skepticism  possible worlds        abduction   \n",
       "\n",
       "                 output_4            output_5                 output_6  \\\n",
       "0  scientific explanation  scientific realism                abilities   \n",
       "1           logical truth              action                assertion   \n",
       "2               existence        confirmation  constructive empiricism   \n",
       "\n",
       "     output_7            output_8                output_9           output_10  \n",
       "0      action           attention                   broad              change  \n",
       "1   attention                ayer                   blame               broad  \n",
       "2  continuity  logical empiricism  scientific explanation  incommensurability  "
      ]
     },
     "execution_count": 118,
     "metadata": {},
     "output_type": "execute_result"
    }
   ],
   "source": [
    "df_result"
   ]
  },
  {
   "cell_type": "code",
   "execution_count": 119,
   "id": "f03ad10f",
   "metadata": {},
   "outputs": [],
   "source": [
    "result_list = []\n",
    "for i in range(len(df_result)):\n",
    "    nested_dict = {df_result.iloc[i]['topic_name']: [v for v in df_result.iloc[i].values[1:11] if v is not None]}\n",
    "    result_list.append(nested_dict)"
   ]
  },
  {
   "cell_type": "code",
   "execution_count": 120,
   "id": "b92ec3e2",
   "metadata": {},
   "outputs": [
    {
     "data": {
      "text/plain": [
       "[{'abduction': ['skepticism',\n",
       "   'existence',\n",
       "   'confirmation',\n",
       "   'scientific explanation',\n",
       "   'scientific realism',\n",
       "   'abilities',\n",
       "   'action',\n",
       "   'attention',\n",
       "   'broad',\n",
       "   'change']},\n",
       " {'skepticism': ['possible worlds',\n",
       "   'existence',\n",
       "   'ceteris paribus',\n",
       "   'logical truth',\n",
       "   'action',\n",
       "   'assertion',\n",
       "   'attention',\n",
       "   'ayer',\n",
       "   'blame',\n",
       "   'broad']},\n",
       " {'scientific realism': ['skepticism',\n",
       "   'possible worlds',\n",
       "   'abduction',\n",
       "   'existence',\n",
       "   'confirmation',\n",
       "   'constructive empiricism',\n",
       "   'continuity',\n",
       "   'logical empiricism',\n",
       "   'scientific explanation',\n",
       "   'incommensurability']}]"
      ]
     },
     "execution_count": 120,
     "metadata": {},
     "output_type": "execute_result"
    }
   ],
   "source": [
    "result_list"
   ]
  },
  {
   "cell_type": "code",
   "execution_count": 121,
   "id": "3b5dc5a0",
   "metadata": {},
   "outputs": [],
   "source": [
    "def _graph(output):\n",
    "    graph_dict = {}\n",
    "    for d in output:\n",
    "        for key, value in d.items():\n",
    "            if key not in graph_dict:\n",
    "                graph_dict[key] = []\n",
    "            for node in value:\n",
    "                if node not in graph_dict:\n",
    "                    graph_dict[node] = []\n",
    "                graph_dict[key].append(node)\n",
    "                graph_dict[node].append(key)\n",
    "    return nx.Graph(graph_dict)"
   ]
  },
  {
   "cell_type": "code",
   "execution_count": 122,
   "id": "af6c9062",
   "metadata": {},
   "outputs": [],
   "source": [
    "G = _graph(result_list)"
   ]
  },
  {
   "cell_type": "code",
   "execution_count": 123,
   "id": "50115467",
   "metadata": {},
   "outputs": [
    {
     "data": {
      "image/png": "[encoded data removed]",
      "text/plain": [
       "<Figure size 432x288 with 1 Axes>"
      ]
     },
     "metadata": {},
     "output_type": "display_data"
    }
   ],
   "source": [
    "# Draw the graph\n",
    "nx.draw(G, with_labels=True)\n",
    "\n",
    "# Show the graph\n",
    "plt.show()"
   ]
  },
  {
   "cell_type": "code",
   "execution_count": null,
   "id": "11875dfc",
   "metadata": {},
   "outputs": [],
   "source": []
  }
 ],
 "metadata": {
  "kernelspec": {
   "display_name": "Python 3 (ipykernel)",
   "language": "python",
   "name": "python3"
  },
  "language_info": {
   "codemirror_mode": {
    "name": "ipython",
    "version": 3
   },
   "file_extension": ".py",
   "mimetype": "text/x-python",
   "name": "python",
   "nbconvert_exporter": "python",
   "pygments_lexer": "ipython3",
   "version": "3.9.12"
  }
 },
 "nbformat": 4,
 "nbformat_minor": 5
}
